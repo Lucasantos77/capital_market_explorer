{
 "cells": [
  {
   "cell_type": "markdown",
   "id": "31d47f55",
   "metadata": {},
   "source": [
    "# Getting some insights from brazilians Mutual Funds public portifolios\n",
    "\n",
    "**What ?** In Brazil the CVM is the capital market regulatory entity like SEC in USA. On CVM public webpage there is a bunch of financial data available to download by the commum public in order to bring transparancy for the market. One of this data it is the ticker by ticker holding assets from the brazilian regulated funds. A lot of insights can be taken from this data as you can seen on this foloowing notebook...\n",
    "\n",
    "**Why ?** The knowledge of the holding assets from huge funds can show us how the smart money has been invested by the professional players on the stock markets\n",
    "\n",
    "**How ?** The data is gonna be crawler from the CVM website using requests and beatiful soup library. After, a Extract Transfrom and Load process is gonna take place in order to ajust the data. Finally some graphics and statistical analysis will show us interesting insights over the holdins os brazilian funds\n"
   ]
  },
  {
   "cell_type": "code",
   "execution_count": 1,
   "id": "a40e305f",
   "metadata": {},
   "outputs": [],
   "source": [
    "import pandas as pd\n",
    "import numpy as np"
   ]
  },
  {
   "cell_type": "code",
   "execution_count": null,
   "id": "bd07ca30",
   "metadata": {},
   "outputs": [],
   "source": []
  }
 ],
 "metadata": {
  "kernelspec": {
   "display_name": "Python 3 (ipykernel)",
   "language": "python",
   "name": "python3"
  },
  "language_info": {
   "codemirror_mode": {
    "name": "ipython",
    "version": 3
   },
   "file_extension": ".py",
   "mimetype": "text/x-python",
   "name": "python",
   "nbconvert_exporter": "python",
   "pygments_lexer": "ipython3",
   "version": "3.11.4"
  }
 },
 "nbformat": 4,
 "nbformat_minor": 5
}
