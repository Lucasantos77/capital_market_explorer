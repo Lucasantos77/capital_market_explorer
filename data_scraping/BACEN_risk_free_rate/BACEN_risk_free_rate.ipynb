{
 "cells": [
  {
   "cell_type": "markdown",
   "id": "d3f80781",
   "metadata": {},
   "source": [
    "# Getting historical SELIC interest rate from brazilian Central Bank API \n",
    "\n",
    "**What ?** The SELIC rate (Sistema Especial de Liquidação e de Custódia) is the Brazilian Central Bank's benchmark interest rate. It is used as the primary tool for controlling inflation and is the interest rate at which banks lend to each other overnight. The SELIC rate influences all other interest rates in the economy, including those for loans, savings, and investments. It is set by the Central Bank's Monetary Policy Committee (COPOM) and is an important indicator of the Brazilian economy's monetary policy stance.\n",
    "\n",
    "**Why ?** Risk-free interest rate is a crucial element in financial market analysis as it serves as a benchmark for evaluating investment opportunities. This rate represents the return on an investment with zero risk of financial loss. By knowing the risk-free rate, it is possible to compare the potential returns of various investments against this baseline. oreover, the risk-free rate is integral to models like the Capital Asset Pricing Model (CAPM), which calculates the expected return on an asset based on its risk relative to the market. \n",
    "\n",
    "**How ?** The last 20 years of SELIC daily values will be downloaded from the Brazilian Central Bank API using requests librarys [link here](https://dadosabertos.bcb.gov.br/dataset/11-taxa-de-juros---selic). Data cleaning and transformations will be applied, and finally, the dataframe will be uploaded to a local SQLite database.\n",
    "\n",
    "\n",
    "<img src=\"https://lh3.googleusercontent.com/d/1XXGD-325RPwPcIyBCBvHqe9s3dA6-n0i\" alt=\"texto_alternativo\" width=\"300\" align=\"center\">"
   ]
  },
  {
   "cell_type": "markdown",
   "id": "e73650dd",
   "metadata": {},
   "source": [
    "### Import Libraries"
   ]
  },
  {
   "cell_type": "code",
   "execution_count": 163,
   "id": "e862cacb",
   "metadata": {},
   "outputs": [],
   "source": [
    "import pandas as pd\n",
    "import numpy as np\n",
    "import os\n",
    "\n",
    "import sqlite3\n",
    "import requests\n",
    "import matplotlib.pyplot as plt\n",
    "from datetime import date, datetime, timedelta"
   ]
  },
  {
   "cell_type": "markdown",
   "id": "af633734",
   "metadata": {},
   "source": [
    "### Getting Data"
   ]
  },
  {
   "cell_type": "markdown",
   "id": "9e69d0c1",
   "metadata": {},
   "source": [
    "#### Setting the time window to download the data "
   ]
  },
  {
   "cell_type": "code",
   "execution_count": 177,
   "id": "69a10a3e",
   "metadata": {},
   "outputs": [
    {
     "name": "stdout",
     "output_type": "stream",
     "text": [
      "Start Date:  02/01/2001 \n",
      "End Date:  12/06/2024\n"
     ]
    }
   ],
   "source": [
    "amount_years = 23 # Manual parameter to set a custom date window \n",
    "\n",
    "today = date.today()\n",
    "#init = datetime.now() + timedelta(days=(-365.25*amount_years)) # Uncomment to set 'amount_years' years ago.\n",
    "init = datetime.strptime('02/01/2001', '%d/%m/%Y')\n",
    "\n",
    "print(\"Start Date: \", init.strftime(\"%d/%m/%Y\"), '\\n' \"End Date: \", today.strftime(\"%d/%m/%Y\"))"
   ]
  },
  {
   "cell_type": "markdown",
   "id": "b512e494",
   "metadata": {},
   "source": [
    "#### Requesting data to Brazilian Central Bank API"
   ]
  },
  {
   "cell_type": "code",
   "execution_count": 178,
   "id": "b12280be",
   "metadata": {
    "scrolled": true
   },
   "outputs": [
    {
     "data": {
      "text/html": [
       "<div>\n",
       "<style scoped>\n",
       "    .dataframe tbody tr th:only-of-type {\n",
       "        vertical-align: middle;\n",
       "    }\n",
       "\n",
       "    .dataframe tbody tr th {\n",
       "        vertical-align: top;\n",
       "    }\n",
       "\n",
       "    .dataframe thead th {\n",
       "        text-align: right;\n",
       "    }\n",
       "</style>\n",
       "<table border=\"1\" class=\"dataframe\">\n",
       "  <thead>\n",
       "    <tr style=\"text-align: right;\">\n",
       "      <th></th>\n",
       "      <th>data</th>\n",
       "      <th>valor</th>\n",
       "    </tr>\n",
       "  </thead>\n",
       "  <tbody>\n",
       "    <tr>\n",
       "      <th>0</th>\n",
       "      <td>02/01/2001</td>\n",
       "      <td>0.058400</td>\n",
       "    </tr>\n",
       "    <tr>\n",
       "      <th>1</th>\n",
       "      <td>03/01/2001</td>\n",
       "      <td>0.058195</td>\n",
       "    </tr>\n",
       "    <tr>\n",
       "      <th>2</th>\n",
       "      <td>04/01/2001</td>\n",
       "      <td>0.058332</td>\n",
       "    </tr>\n",
       "    <tr>\n",
       "      <th>3</th>\n",
       "      <td>05/01/2001</td>\n",
       "      <td>0.058229</td>\n",
       "    </tr>\n",
       "    <tr>\n",
       "      <th>4</th>\n",
       "      <td>08/01/2001</td>\n",
       "      <td>0.058229</td>\n",
       "    </tr>\n",
       "  </tbody>\n",
       "</table>\n",
       "</div>"
      ],
      "text/plain": [
       "         data     valor\n",
       "0  02/01/2001  0.058400\n",
       "1  03/01/2001  0.058195\n",
       "2  04/01/2001  0.058332\n",
       "3  05/01/2001  0.058229\n",
       "4  08/01/2001  0.058229"
      ]
     },
     "execution_count": 178,
     "metadata": {},
     "output_type": "execute_result"
    }
   ],
   "source": [
    "# url to brazilian Central Bank risk free historical series (setting above initial and final date defined as parameter)\n",
    "url_selic = \"https://api.bcb.gov.br/dados/serie/bcdata.sgs.11/dados?formato=json&dataInicial=\"+init.strftime(\"%d/%m/%Y\")+\"&dataFinal=\"+today.strftime(\"%d/%m/%Y\")\n",
    "\n",
    "response = requests.get(url_selic)\n",
    "\n",
    "if response.status_code == 200:\n",
    "    df_selic_bc = pd.DataFrame(response.json())\n",
    "else:\n",
    "    print('Connection erro: {}'.format(response.status_code))\n",
    "    \n",
    "df_selic_bc.head()"
   ]
  },
  {
   "cell_type": "markdown",
   "id": "38417d1b",
   "metadata": {},
   "source": [
    "#### Ajusting dataframe formats"
   ]
  },
  {
   "cell_type": "code",
   "execution_count": 179,
   "id": "62ad96d1",
   "metadata": {},
   "outputs": [
    {
     "data": {
      "text/html": [
       "<div>\n",
       "<style scoped>\n",
       "    .dataframe tbody tr th:only-of-type {\n",
       "        vertical-align: middle;\n",
       "    }\n",
       "\n",
       "    .dataframe tbody tr th {\n",
       "        vertical-align: top;\n",
       "    }\n",
       "\n",
       "    .dataframe thead th {\n",
       "        text-align: right;\n",
       "    }\n",
       "</style>\n",
       "<table border=\"1\" class=\"dataframe\">\n",
       "  <thead>\n",
       "    <tr style=\"text-align: right;\">\n",
       "      <th></th>\n",
       "      <th>ReferenceDate</th>\n",
       "      <th>Year-Month</th>\n",
       "      <th>Year</th>\n",
       "      <th>SELIC_DAY</th>\n",
       "      <th>SELIC_YEAR</th>\n",
       "    </tr>\n",
       "  </thead>\n",
       "  <tbody>\n",
       "    <tr>\n",
       "      <th>0</th>\n",
       "      <td>2001-01-02</td>\n",
       "      <td>2001-1</td>\n",
       "      <td>2001</td>\n",
       "      <td>0.058400</td>\n",
       "      <td>0.158499</td>\n",
       "    </tr>\n",
       "    <tr>\n",
       "      <th>1</th>\n",
       "      <td>2001-01-03</td>\n",
       "      <td>2001-1</td>\n",
       "      <td>2001</td>\n",
       "      <td>0.058195</td>\n",
       "      <td>0.157901</td>\n",
       "    </tr>\n",
       "    <tr>\n",
       "      <th>2</th>\n",
       "      <td>2001-01-04</td>\n",
       "      <td>2001-1</td>\n",
       "      <td>2001</td>\n",
       "      <td>0.058332</td>\n",
       "      <td>0.158300</td>\n",
       "    </tr>\n",
       "    <tr>\n",
       "      <th>3</th>\n",
       "      <td>2001-01-05</td>\n",
       "      <td>2001-1</td>\n",
       "      <td>2001</td>\n",
       "      <td>0.058229</td>\n",
       "      <td>0.158000</td>\n",
       "    </tr>\n",
       "    <tr>\n",
       "      <th>4</th>\n",
       "      <td>2001-01-08</td>\n",
       "      <td>2001-1</td>\n",
       "      <td>2001</td>\n",
       "      <td>0.058229</td>\n",
       "      <td>0.158000</td>\n",
       "    </tr>\n",
       "    <tr>\n",
       "      <th>...</th>\n",
       "      <td>...</td>\n",
       "      <td>...</td>\n",
       "      <td>...</td>\n",
       "      <td>...</td>\n",
       "      <td>...</td>\n",
       "    </tr>\n",
       "    <tr>\n",
       "      <th>5882</th>\n",
       "      <td>2024-06-05</td>\n",
       "      <td>2024-6</td>\n",
       "      <td>2024</td>\n",
       "      <td>0.039270</td>\n",
       "      <td>0.104001</td>\n",
       "    </tr>\n",
       "    <tr>\n",
       "      <th>5883</th>\n",
       "      <td>2024-06-06</td>\n",
       "      <td>2024-6</td>\n",
       "      <td>2024</td>\n",
       "      <td>0.039270</td>\n",
       "      <td>0.104001</td>\n",
       "    </tr>\n",
       "    <tr>\n",
       "      <th>5884</th>\n",
       "      <td>2024-06-07</td>\n",
       "      <td>2024-6</td>\n",
       "      <td>2024</td>\n",
       "      <td>0.039270</td>\n",
       "      <td>0.104001</td>\n",
       "    </tr>\n",
       "    <tr>\n",
       "      <th>5885</th>\n",
       "      <td>2024-06-10</td>\n",
       "      <td>2024-6</td>\n",
       "      <td>2024</td>\n",
       "      <td>0.039270</td>\n",
       "      <td>0.104001</td>\n",
       "    </tr>\n",
       "    <tr>\n",
       "      <th>5886</th>\n",
       "      <td>2024-06-11</td>\n",
       "      <td>2024-6</td>\n",
       "      <td>2024</td>\n",
       "      <td>0.039270</td>\n",
       "      <td>0.104001</td>\n",
       "    </tr>\n",
       "  </tbody>\n",
       "</table>\n",
       "<p>5887 rows × 5 columns</p>\n",
       "</div>"
      ],
      "text/plain": [
       "     ReferenceDate Year-Month  Year  SELIC_DAY  SELIC_YEAR\n",
       "0       2001-01-02     2001-1  2001   0.058400    0.158499\n",
       "1       2001-01-03     2001-1  2001   0.058195    0.157901\n",
       "2       2001-01-04     2001-1  2001   0.058332    0.158300\n",
       "3       2001-01-05     2001-1  2001   0.058229    0.158000\n",
       "4       2001-01-08     2001-1  2001   0.058229    0.158000\n",
       "...            ...        ...   ...        ...         ...\n",
       "5882    2024-06-05     2024-6  2024   0.039270    0.104001\n",
       "5883    2024-06-06     2024-6  2024   0.039270    0.104001\n",
       "5884    2024-06-07     2024-6  2024   0.039270    0.104001\n",
       "5885    2024-06-10     2024-6  2024   0.039270    0.104001\n",
       "5886    2024-06-11     2024-6  2024   0.039270    0.104001\n",
       "\n",
       "[5887 rows x 5 columns]"
      ]
     },
     "execution_count": 179,
     "metadata": {},
     "output_type": "execute_result"
    }
   ],
   "source": [
    "#changing datetime format\n",
    "df_selic_bc['ReferenceDate'] = pd.to_datetime(df_selic_bc['data'], format='%d/%m/%Y')\n",
    "df_selic_bc.drop(columns = 'data', inplace = True)\n",
    "\n",
    "df_selic_bc['Year-Month'] = df_selic_bc['ReferenceDate'].dt.year.astype(str) + '-'+ df_selic_bc['ReferenceDate'].dt.month.astype(str)\n",
    "df_selic_bc['Year'] = df_selic_bc['ReferenceDate'].dt.year.astype(str)\n",
    "\n",
    "#calculating SELIC index rate in a % of year base\n",
    "df_selic_bc.rename(columns = {'valor':'SELIC_DAY'},inplace =True)\n",
    "df_selic_bc['SELIC_DAY'] = df_selic_bc['SELIC_DAY'].astype(float) #SELIC expressed % day\n",
    "df_selic_bc['SELIC_YEAR'] = ((((df_selic_bc['SELIC_DAY']/100)+1)**252)-1) #SELIC expressed % year\n",
    "\n",
    "#changing columns ordering\n",
    "df_selic_bc = df_selic_bc[['ReferenceDate','Year-Month','Year','SELIC_DAY','SELIC_YEAR']]\n",
    "df_selic_bc"
   ]
  },
  {
   "cell_type": "markdown",
   "id": "f359b2a9",
   "metadata": {},
   "source": [
    "#### Plot graphic of SELIC per year"
   ]
  },
  {
   "cell_type": "code",
   "execution_count": 180,
   "id": "6031eea0",
   "metadata": {},
   "outputs": [
    {
     "data": {
      "image/png": "[encoded data removed]",
      "text/plain": [
       "<Figure size 700x500 with 1 Axes>"
      ]
     },
     "metadata": {},
     "output_type": "display_data"
    }
   ],
   "source": [
    "# calculating accumulated SELIC per year\n",
    "df_selic_bc_year = df_selic_bc.groupby('Year')['SELIC_DAY'].sum().reset_index()\n",
    "\n",
    "fig, ax = plt.subplots(figsize=[7, 5])\n",
    "ax.plot(df_selic_bc_year['Year'], df_selic_bc_year['SELIC_DAY'], marker='o')\n",
    "\n",
    "# Adding tick labels at each point\n",
    "for i, txt in enumerate(df_selic_bc_year['SELIC_DAY']):\n",
    "    ax.annotate(f'{txt:.1f}', (df_selic_bc_year['Year'][i], df_selic_bc_year['SELIC_DAY'][i]),\n",
    "                textcoords=\"offset points\", xytext=(0,10), ha='center')\n",
    "\n",
    "plt.xticks(rotation=45)\n",
    "\n",
    "ax.set_title('Brazilian Interest Rate - SELIC per year', fontsize=14)\n",
    "ax.set_xlabel('Years')\n",
    "ax.set_ylabel('Free Risk Return annualized [%]')\n",
    "\n",
    "plt.show()"
   ]
  },
  {
   "cell_type": "markdown",
   "id": "56fbcdcf",
   "metadata": {},
   "source": [
    "#### Upload dataframe into a local SQLIte"
   ]
  },
  {
   "cell_type": "code",
   "execution_count": 181,
   "id": "f4059200",
   "metadata": {},
   "outputs": [
    {
     "data": {
      "text/plain": [
       "5887"
      ]
     },
     "execution_count": 181,
     "metadata": {},
     "output_type": "execute_result"
    }
   ],
   "source": [
    "# write the dataframe into the SQLite database\n",
    "conn = sqlite3.connect('D:/finance_data/finance_database.db')\n",
    "\n",
    "df_selic_bc.to_sql('BACEN_risk_free_rate',conn,if_exists='replace',index=False)"
   ]
  }
 ],
 "metadata": {
  "kernelspec": {
   "display_name": "Python 3 (ipykernel)",
   "language": "python",
   "name": "python3"
  },
  "language_info": {
   "codemirror_mode": {
    "name": "ipython",
    "version": 3
   },
   "file_extension": ".py",
   "mimetype": "text/x-python",
   "name": "python",
   "nbconvert_exporter": "python",
   "pygments_lexer": "ipython3",
   "version": "3.11.4"
  }
 },
 "nbformat": 4,
 "nbformat_minor": 5
}
